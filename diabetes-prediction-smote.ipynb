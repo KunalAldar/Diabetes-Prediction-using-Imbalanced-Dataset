{
 "cells": [
  {
   "cell_type": "code",
   "execution_count": 3,
   "id": "e0b5b0c1",
   "metadata": {},
   "outputs": [],
   "source": [
    "import pandas as pd\n",
    "import numpy as np"
   ]
  },
  {
   "cell_type": "code",
   "execution_count": 4,
   "id": "5753f82b",
   "metadata": {
    "execution": {
     "iopub.execute_input": "2024-09-03T07:53:47.544010Z",
     "iopub.status.busy": "2024-09-03T07:53:47.543459Z",
     "iopub.status.idle": "2024-09-03T07:53:47.762875Z",
     "shell.execute_reply": "2024-09-03T07:53:47.761878Z"
    },
    "papermill": {
     "duration": 0.238057,
     "end_time": "2024-09-03T07:53:47.765581",
     "exception": false,
     "start_time": "2024-09-03T07:53:47.527524",
     "status": "completed"
    },
    "tags": []
   },
   "outputs": [],
   "source": [
    "df = pd.read_csv('diabetes_prediction_dataset.csv')"
   ]
  },
  {
   "cell_type": "code",
   "execution_count": 5,
   "id": "a1a7dbba",
   "metadata": {
    "execution": {
     "iopub.execute_input": "2024-09-03T07:53:47.796052Z",
     "iopub.status.busy": "2024-09-03T07:53:47.795635Z",
     "iopub.status.idle": "2024-09-03T07:53:47.823249Z",
     "shell.execute_reply": "2024-09-03T07:53:47.822173Z"
    },
    "papermill": {
     "duration": 0.045728,
     "end_time": "2024-09-03T07:53:47.825831",
     "exception": false,
     "start_time": "2024-09-03T07:53:47.780103",
     "status": "completed"
    },
    "tags": []
   },
   "outputs": [
    {
     "data": {
      "text/html": [
       "<div>\n",
       "<style scoped>\n",
       "    .dataframe tbody tr th:only-of-type {\n",
       "        vertical-align: middle;\n",
       "    }\n",
       "\n",
       "    .dataframe tbody tr th {\n",
       "        vertical-align: top;\n",
       "    }\n",
       "\n",
       "    .dataframe thead th {\n",
       "        text-align: right;\n",
       "    }\n",
       "</style>\n",
       "<table border=\"1\" class=\"dataframe\">\n",
       "  <thead>\n",
       "    <tr style=\"text-align: right;\">\n",
       "      <th></th>\n",
       "      <th>gender</th>\n",
       "      <th>age</th>\n",
       "      <th>hypertension</th>\n",
       "      <th>heart_disease</th>\n",
       "      <th>smoking_history</th>\n",
       "      <th>bmi</th>\n",
       "      <th>HbA1c_level</th>\n",
       "      <th>blood_glucose_level</th>\n",
       "      <th>diabetes</th>\n",
       "    </tr>\n",
       "  </thead>\n",
       "  <tbody>\n",
       "    <tr>\n",
       "      <th>0</th>\n",
       "      <td>Female</td>\n",
       "      <td>80.0</td>\n",
       "      <td>0</td>\n",
       "      <td>1</td>\n",
       "      <td>never</td>\n",
       "      <td>25.19</td>\n",
       "      <td>6.6</td>\n",
       "      <td>140</td>\n",
       "      <td>0</td>\n",
       "    </tr>\n",
       "    <tr>\n",
       "      <th>1</th>\n",
       "      <td>Female</td>\n",
       "      <td>54.0</td>\n",
       "      <td>0</td>\n",
       "      <td>0</td>\n",
       "      <td>No Info</td>\n",
       "      <td>27.32</td>\n",
       "      <td>6.6</td>\n",
       "      <td>80</td>\n",
       "      <td>0</td>\n",
       "    </tr>\n",
       "    <tr>\n",
       "      <th>2</th>\n",
       "      <td>Male</td>\n",
       "      <td>28.0</td>\n",
       "      <td>0</td>\n",
       "      <td>0</td>\n",
       "      <td>never</td>\n",
       "      <td>27.32</td>\n",
       "      <td>5.7</td>\n",
       "      <td>158</td>\n",
       "      <td>0</td>\n",
       "    </tr>\n",
       "    <tr>\n",
       "      <th>3</th>\n",
       "      <td>Female</td>\n",
       "      <td>36.0</td>\n",
       "      <td>0</td>\n",
       "      <td>0</td>\n",
       "      <td>current</td>\n",
       "      <td>23.45</td>\n",
       "      <td>5.0</td>\n",
       "      <td>155</td>\n",
       "      <td>0</td>\n",
       "    </tr>\n",
       "    <tr>\n",
       "      <th>4</th>\n",
       "      <td>Male</td>\n",
       "      <td>76.0</td>\n",
       "      <td>1</td>\n",
       "      <td>1</td>\n",
       "      <td>current</td>\n",
       "      <td>20.14</td>\n",
       "      <td>4.8</td>\n",
       "      <td>155</td>\n",
       "      <td>0</td>\n",
       "    </tr>\n",
       "  </tbody>\n",
       "</table>\n",
       "</div>"
      ],
      "text/plain": [
       "   gender   age  hypertension  heart_disease smoking_history    bmi  \\\n",
       "0  Female  80.0             0              1           never  25.19   \n",
       "1  Female  54.0             0              0         No Info  27.32   \n",
       "2    Male  28.0             0              0           never  27.32   \n",
       "3  Female  36.0             0              0         current  23.45   \n",
       "4    Male  76.0             1              1         current  20.14   \n",
       "\n",
       "   HbA1c_level  blood_glucose_level  diabetes  \n",
       "0          6.6                  140         0  \n",
       "1          6.6                   80         0  \n",
       "2          5.7                  158         0  \n",
       "3          5.0                  155         0  \n",
       "4          4.8                  155         0  "
      ]
     },
     "execution_count": 5,
     "metadata": {},
     "output_type": "execute_result"
    }
   ],
   "source": [
    "df.head(5)"
   ]
  },
  {
   "cell_type": "code",
   "execution_count": 6,
   "id": "6f4c8ffb",
   "metadata": {
    "execution": {
     "iopub.execute_input": "2024-09-03T07:53:47.857621Z",
     "iopub.status.busy": "2024-09-03T07:53:47.856577Z",
     "iopub.status.idle": "2024-09-03T07:53:47.863842Z",
     "shell.execute_reply": "2024-09-03T07:53:47.862582Z"
    },
    "papermill": {
     "duration": 0.025639,
     "end_time": "2024-09-03T07:53:47.866350",
     "exception": false,
     "start_time": "2024-09-03T07:53:47.840711",
     "status": "completed"
    },
    "tags": []
   },
   "outputs": [
    {
     "data": {
      "text/plain": [
       "(100000, 9)"
      ]
     },
     "execution_count": 6,
     "metadata": {},
     "output_type": "execute_result"
    }
   ],
   "source": [
    "df.shape"
   ]
  },
  {
   "cell_type": "markdown",
   "id": "89e7b450",
   "metadata": {
    "papermill": {
     "duration": 0.014385,
     "end_time": "2024-09-03T07:53:47.895267",
     "exception": false,
     "start_time": "2024-09-03T07:53:47.880882",
     "status": "completed"
    },
    "tags": []
   },
   "source": [
    "# Data Preprocessing\n"
   ]
  },
  {
   "cell_type": "code",
   "execution_count": 7,
   "id": "7c1eb773",
   "metadata": {
    "execution": {
     "iopub.execute_input": "2024-09-03T07:53:47.926510Z",
     "iopub.status.busy": "2024-09-03T07:53:47.926094Z",
     "iopub.status.idle": "2024-09-03T07:53:47.941283Z",
     "shell.execute_reply": "2024-09-03T07:53:47.940255Z"
    },
    "papermill": {
     "duration": 0.033308,
     "end_time": "2024-09-03T07:53:47.943552",
     "exception": false,
     "start_time": "2024-09-03T07:53:47.910244",
     "status": "completed"
    },
    "tags": []
   },
   "outputs": [
    {
     "data": {
      "text/plain": [
       "diabetes\n",
       "0    91500\n",
       "1     8500\n",
       "Name: count, dtype: int64"
      ]
     },
     "execution_count": 7,
     "metadata": {},
     "output_type": "execute_result"
    }
   ],
   "source": [
    "df['diabetes'].value_counts()"
   ]
  },
  {
   "cell_type": "markdown",
   "id": "c74d6ddc",
   "metadata": {
    "papermill": {
     "duration": 0.01446,
     "end_time": "2024-09-03T07:53:47.972402",
     "exception": false,
     "start_time": "2024-09-03T07:53:47.957942",
     "status": "completed"
    },
    "tags": []
   },
   "source": [
    "__Imbalnced Data__\n",
    "\n",
    "we might need to consider sampling techniques, although we will first check model performance without sampling."
   ]
  },
  {
   "cell_type": "code",
   "execution_count": 8,
   "id": "6b30fe84",
   "metadata": {
    "execution": {
     "iopub.execute_input": "2024-09-03T07:53:48.003862Z",
     "iopub.status.busy": "2024-09-03T07:53:48.002992Z",
     "iopub.status.idle": "2024-09-03T07:53:48.027402Z",
     "shell.execute_reply": "2024-09-03T07:53:48.026340Z"
    },
    "papermill": {
     "duration": 0.043092,
     "end_time": "2024-09-03T07:53:48.030085",
     "exception": false,
     "start_time": "2024-09-03T07:53:47.986993",
     "status": "completed"
    },
    "tags": []
   },
   "outputs": [
    {
     "data": {
      "text/plain": [
       "smoking_history\n",
       "No Info        35816\n",
       "never          35095\n",
       "former          9352\n",
       "current         9286\n",
       "not current     6447\n",
       "ever            4004\n",
       "Name: count, dtype: int64"
      ]
     },
     "execution_count": 8,
     "metadata": {},
     "output_type": "execute_result"
    }
   ],
   "source": [
    "df['smoking_history'].value_counts()"
   ]
  },
  {
   "cell_type": "markdown",
   "id": "fc1ca464",
   "metadata": {
    "papermill": {
     "duration": 0.014756,
     "end_time": "2024-09-03T07:53:48.059825",
     "exception": false,
     "start_time": "2024-09-03T07:53:48.045069",
     "status": "completed"
    },
    "tags": []
   },
   "source": [
    "> smoking_history column has **No Info category** which is can be considered as **NaN value**"
   ]
  },
  {
   "cell_type": "code",
   "execution_count": 9,
   "id": "85603046",
   "metadata": {
    "execution": {
     "iopub.execute_input": "2024-09-03T07:53:48.091429Z",
     "iopub.status.busy": "2024-09-03T07:53:48.091004Z",
     "iopub.status.idle": "2024-09-03T07:53:48.117297Z",
     "shell.execute_reply": "2024-09-03T07:53:48.116365Z"
    },
    "papermill": {
     "duration": 0.04514,
     "end_time": "2024-09-03T07:53:48.119735",
     "exception": false,
     "start_time": "2024-09-03T07:53:48.074595",
     "status": "completed"
    },
    "tags": []
   },
   "outputs": [],
   "source": [
    "df['smoking_history']=df['smoking_history'].replace('No Info', np.nan)"
   ]
  },
  {
   "cell_type": "code",
   "execution_count": 10,
   "id": "3babf5dc",
   "metadata": {
    "execution": {
     "iopub.execute_input": "2024-09-03T07:53:48.151704Z",
     "iopub.status.busy": "2024-09-03T07:53:48.151263Z",
     "iopub.status.idle": "2024-09-03T07:53:48.182588Z",
     "shell.execute_reply": "2024-09-03T07:53:48.181475Z"
    },
    "papermill": {
     "duration": 0.050303,
     "end_time": "2024-09-03T07:53:48.185211",
     "exception": false,
     "start_time": "2024-09-03T07:53:48.134908",
     "status": "completed"
    },
    "tags": []
   },
   "outputs": [
    {
     "data": {
      "text/plain": [
       "gender                     0\n",
       "age                        0\n",
       "hypertension               0\n",
       "heart_disease              0\n",
       "smoking_history        35816\n",
       "bmi                        0\n",
       "HbA1c_level                0\n",
       "blood_glucose_level        0\n",
       "diabetes                   0\n",
       "dtype: int64"
      ]
     },
     "execution_count": 10,
     "metadata": {},
     "output_type": "execute_result"
    }
   ],
   "source": [
    "df.isnull().sum()"
   ]
  },
  {
   "cell_type": "markdown",
   "id": "55d51d5a",
   "metadata": {
    "papermill": {
     "duration": 0.015193,
     "end_time": "2024-09-03T07:53:48.215594",
     "exception": false,
     "start_time": "2024-09-03T07:53:48.200401",
     "status": "completed"
    },
    "tags": []
   },
   "source": [
    "## Imputing missing values of smoking history"
   ]
  },
  {
   "cell_type": "code",
   "execution_count": 11,
   "id": "b6396c6f",
   "metadata": {
    "execution": {
     "iopub.execute_input": "2024-09-03T07:53:48.247761Z",
     "iopub.status.busy": "2024-09-03T07:53:48.247294Z",
     "iopub.status.idle": "2024-09-03T07:53:48.253998Z",
     "shell.execute_reply": "2024-09-03T07:53:48.253014Z"
    },
    "papermill": {
     "duration": 0.025488,
     "end_time": "2024-09-03T07:53:48.256286",
     "exception": false,
     "start_time": "2024-09-03T07:53:48.230798",
     "status": "completed"
    },
    "tags": []
   },
   "outputs": [],
   "source": [
    "def SmokingHistoryImpute(data,column):\n",
    "     # Create a boolean mask for missing values in the column\n",
    "    mask = data[column].isnull()\n",
    "    \n",
    "    # Count the number of missing values\n",
    "    num_missing = mask.sum()\n",
    "    \n",
    "    # If there are missing values, sample non-null values from the column\n",
    "    if num_missing > 0:\n",
    "        # Sample values from non-null entries in the column\n",
    "        random_sample = data[column].dropna().sample(num_missing, replace=True)\n",
    "        \n",
    "        # Assign these random values to the missing values in the column\n",
    "        data.loc[mask, column] = random_sample.values"
   ]
  },
  {
   "cell_type": "code",
   "execution_count": 12,
   "id": "1b2de162",
   "metadata": {
    "execution": {
     "iopub.execute_input": "2024-09-03T07:53:48.288133Z",
     "iopub.status.busy": "2024-09-03T07:53:48.287718Z",
     "iopub.status.idle": "2024-09-03T07:53:48.320786Z",
     "shell.execute_reply": "2024-09-03T07:53:48.319647Z"
    },
    "papermill": {
     "duration": 0.052123,
     "end_time": "2024-09-03T07:53:48.323446",
     "exception": false,
     "start_time": "2024-09-03T07:53:48.271323",
     "status": "completed"
    },
    "tags": []
   },
   "outputs": [],
   "source": [
    "SmokingHistoryImpute(df,'smoking_history')"
   ]
  },
  {
   "cell_type": "code",
   "execution_count": 13,
   "id": "02eb69bc",
   "metadata": {
    "execution": {
     "iopub.execute_input": "2024-09-03T07:53:48.355664Z",
     "iopub.status.busy": "2024-09-03T07:53:48.354699Z",
     "iopub.status.idle": "2024-09-03T07:53:50.052132Z",
     "shell.execute_reply": "2024-09-03T07:53:50.051126Z"
    },
    "papermill": {
     "duration": 1.716637,
     "end_time": "2024-09-03T07:53:50.054926",
     "exception": false,
     "start_time": "2024-09-03T07:53:48.338289",
     "status": "completed"
    },
    "tags": []
   },
   "outputs": [],
   "source": [
    "from sklearn.model_selection import train_test_split\n",
    "from sklearn.compose import ColumnTransformer\n",
    "from sklearn.pipeline import Pipeline\n",
    "from sklearn.preprocessing import OrdinalEncoder, OneHotEncoder, StandardScaler, MinMaxScaler\n",
    "from sklearn.model_selection import train_test_split\n",
    "from sklearn.ensemble import RandomForestClassifier\n",
    "from sklearn.metrics import accuracy_score, confusion_matrix, f1_score, classification_report"
   ]
  },
  {
   "cell_type": "markdown",
   "id": "7c3e663e",
   "metadata": {
    "papermill": {
     "duration": 0.014601,
     "end_time": "2024-09-03T07:53:50.084695",
     "exception": false,
     "start_time": "2024-09-03T07:53:50.070094",
     "status": "completed"
    },
    "tags": []
   },
   "source": [
    "## Data Encoding"
   ]
  },
  {
   "cell_type": "code",
   "execution_count": 14,
   "id": "33f3635b",
   "metadata": {
    "execution": {
     "iopub.execute_input": "2024-09-03T07:53:50.117261Z",
     "iopub.status.busy": "2024-09-03T07:53:50.116273Z",
     "iopub.status.idle": "2024-09-03T07:53:50.131110Z",
     "shell.execute_reply": "2024-09-03T07:53:50.129976Z"
    },
    "papermill": {
     "duration": 0.033938,
     "end_time": "2024-09-03T07:53:50.133591",
     "exception": false,
     "start_time": "2024-09-03T07:53:50.099653",
     "status": "completed"
    },
    "tags": []
   },
   "outputs": [],
   "source": [
    "X = df.drop(columns=['diabetes'])\n",
    "y = df.iloc[:,-1]"
   ]
  },
  {
   "cell_type": "code",
   "execution_count": 15,
   "id": "e6fdaf72",
   "metadata": {
    "execution": {
     "iopub.execute_input": "2024-09-03T07:53:50.165079Z",
     "iopub.status.busy": "2024-09-03T07:53:50.164642Z",
     "iopub.status.idle": "2024-09-03T07:53:50.171564Z",
     "shell.execute_reply": "2024-09-03T07:53:50.170529Z"
    },
    "papermill": {
     "duration": 0.025439,
     "end_time": "2024-09-03T07:53:50.173840",
     "exception": false,
     "start_time": "2024-09-03T07:53:50.148401",
     "status": "completed"
    },
    "tags": []
   },
   "outputs": [],
   "source": [
    "oe_order = ['never','former','not current','current','ever']\n",
    "preprocessor = ColumnTransformer(transformers=[\n",
    "    ('oe',OrdinalEncoder(categories=[oe_order]),['smoking_history']),\n",
    "    ('ohe', OneHotEncoder(drop='first'),['gender']),\n",
    "    ('scaaler',MinMaxScaler(),['age','bmi','blood_glucose_level','HbA1c_level'])\n",
    "],remainder='passthrough')"
   ]
  },
  {
   "cell_type": "code",
   "execution_count": 16,
   "id": "7a5c3e07",
   "metadata": {
    "execution": {
     "iopub.execute_input": "2024-09-03T07:53:50.205317Z",
     "iopub.status.busy": "2024-09-03T07:53:50.204915Z",
     "iopub.status.idle": "2024-09-03T07:53:50.328386Z",
     "shell.execute_reply": "2024-09-03T07:53:50.327151Z"
    },
    "papermill": {
     "duration": 0.142195,
     "end_time": "2024-09-03T07:53:50.331098",
     "exception": false,
     "start_time": "2024-09-03T07:53:50.188903",
     "status": "completed"
    },
    "tags": []
   },
   "outputs": [],
   "source": [
    "X_trf = preprocessor.fit_transform(X)"
   ]
  },
  {
   "cell_type": "markdown",
   "id": "36e08a85",
   "metadata": {
    "papermill": {
     "duration": 0.014766,
     "end_time": "2024-09-03T07:53:50.361049",
     "exception": false,
     "start_time": "2024-09-03T07:53:50.346283",
     "status": "completed"
    },
    "tags": []
   },
   "source": [
    "# Model training without handling imbalance"
   ]
  },
  {
   "cell_type": "code",
   "execution_count": 17,
   "id": "1f1956d8",
   "metadata": {
    "execution": {
     "iopub.execute_input": "2024-09-03T07:53:50.395372Z",
     "iopub.status.busy": "2024-09-03T07:53:50.394313Z",
     "iopub.status.idle": "2024-09-03T07:53:50.415199Z",
     "shell.execute_reply": "2024-09-03T07:53:50.413975Z"
    },
    "papermill": {
     "duration": 0.040086,
     "end_time": "2024-09-03T07:53:50.418001",
     "exception": false,
     "start_time": "2024-09-03T07:53:50.377915",
     "status": "completed"
    },
    "tags": []
   },
   "outputs": [],
   "source": [
    "X_train,X_test,y_train,y_test = train_test_split(X_trf,y,test_size=0.2,random_state=42)"
   ]
  },
  {
   "cell_type": "code",
   "execution_count": 18,
   "id": "b186e3b3",
   "metadata": {
    "execution": {
     "iopub.execute_input": "2024-09-03T07:53:50.450587Z",
     "iopub.status.busy": "2024-09-03T07:53:50.449430Z",
     "iopub.status.idle": "2024-09-03T07:53:50.454913Z",
     "shell.execute_reply": "2024-09-03T07:53:50.453700Z"
    },
    "papermill": {
     "duration": 0.024262,
     "end_time": "2024-09-03T07:53:50.457375",
     "exception": false,
     "start_time": "2024-09-03T07:53:50.433113",
     "status": "completed"
    },
    "tags": []
   },
   "outputs": [],
   "source": [
    "rf = RandomForestClassifier()"
   ]
  },
  {
   "cell_type": "code",
   "execution_count": 19,
   "id": "0e18addc",
   "metadata": {
    "execution": {
     "iopub.execute_input": "2024-09-03T07:53:50.489287Z",
     "iopub.status.busy": "2024-09-03T07:53:50.488826Z",
     "iopub.status.idle": "2024-09-03T07:53:58.892239Z",
     "shell.execute_reply": "2024-09-03T07:53:58.891063Z"
    },
    "papermill": {
     "duration": 8.422371,
     "end_time": "2024-09-03T07:53:58.894735",
     "exception": false,
     "start_time": "2024-09-03T07:53:50.472364",
     "status": "completed"
    },
    "tags": []
   },
   "outputs": [
    {
     "data": {
      "text/html": [
       "<style>#sk-container-id-1 {\n",
       "  /* Definition of color scheme common for light and dark mode */\n",
       "  --sklearn-color-text: black;\n",
       "  --sklearn-color-line: gray;\n",
       "  /* Definition of color scheme for unfitted estimators */\n",
       "  --sklearn-color-unfitted-level-0: #fff5e6;\n",
       "  --sklearn-color-unfitted-level-1: #f6e4d2;\n",
       "  --sklearn-color-unfitted-level-2: #ffe0b3;\n",
       "  --sklearn-color-unfitted-level-3: chocolate;\n",
       "  /* Definition of color scheme for fitted estimators */\n",
       "  --sklearn-color-fitted-level-0: #f0f8ff;\n",
       "  --sklearn-color-fitted-level-1: #d4ebff;\n",
       "  --sklearn-color-fitted-level-2: #b3dbfd;\n",
       "  --sklearn-color-fitted-level-3: cornflowerblue;\n",
       "\n",
       "  /* Specific color for light theme */\n",
       "  --sklearn-color-text-on-default-background: var(--sg-text-color, var(--theme-code-foreground, var(--jp-content-font-color1, black)));\n",
       "  --sklearn-color-background: var(--sg-background-color, var(--theme-background, var(--jp-layout-color0, white)));\n",
       "  --sklearn-color-border-box: var(--sg-text-color, var(--theme-code-foreground, var(--jp-content-font-color1, black)));\n",
       "  --sklearn-color-icon: #696969;\n",
       "\n",
       "  @media (prefers-color-scheme: dark) {\n",
       "    /* Redefinition of color scheme for dark theme */\n",
       "    --sklearn-color-text-on-default-background: var(--sg-text-color, var(--theme-code-foreground, var(--jp-content-font-color1, white)));\n",
       "    --sklearn-color-background: var(--sg-background-color, var(--theme-background, var(--jp-layout-color0, #111)));\n",
       "    --sklearn-color-border-box: var(--sg-text-color, var(--theme-code-foreground, var(--jp-content-font-color1, white)));\n",
       "    --sklearn-color-icon: #878787;\n",
       "  }\n",
       "}\n",
       "\n",
       "#sk-container-id-1 {\n",
       "  color: var(--sklearn-color-text);\n",
       "}\n",
       "\n",
       "#sk-container-id-1 pre {\n",
       "  padding: 0;\n",
       "}\n",
       "\n",
       "#sk-container-id-1 input.sk-hidden--visually {\n",
       "  border: 0;\n",
       "  clip: rect(1px 1px 1px 1px);\n",
       "  clip: rect(1px, 1px, 1px, 1px);\n",
       "  height: 1px;\n",
       "  margin: -1px;\n",
       "  overflow: hidden;\n",
       "  padding: 0;\n",
       "  position: absolute;\n",
       "  width: 1px;\n",
       "}\n",
       "\n",
       "#sk-container-id-1 div.sk-dashed-wrapped {\n",
       "  border: 1px dashed var(--sklearn-color-line);\n",
       "  margin: 0 0.4em 0.5em 0.4em;\n",
       "  box-sizing: border-box;\n",
       "  padding-bottom: 0.4em;\n",
       "  background-color: var(--sklearn-color-background);\n",
       "}\n",
       "\n",
       "#sk-container-id-1 div.sk-container {\n",
       "  /* jupyter's `normalize.less` sets `[hidden] { display: none; }`\n",
       "     but bootstrap.min.css set `[hidden] { display: none !important; }`\n",
       "     so we also need the `!important` here to be able to override the\n",
       "     default hidden behavior on the sphinx rendered scikit-learn.org.\n",
       "     See: https://github.com/scikit-learn/scikit-learn/issues/21755 */\n",
       "  display: inline-block !important;\n",
       "  position: relative;\n",
       "}\n",
       "\n",
       "#sk-container-id-1 div.sk-text-repr-fallback {\n",
       "  display: none;\n",
       "}\n",
       "\n",
       "div.sk-parallel-item,\n",
       "div.sk-serial,\n",
       "div.sk-item {\n",
       "  /* draw centered vertical line to link estimators */\n",
       "  background-image: linear-gradient(var(--sklearn-color-text-on-default-background), var(--sklearn-color-text-on-default-background));\n",
       "  background-size: 2px 100%;\n",
       "  background-repeat: no-repeat;\n",
       "  background-position: center center;\n",
       "}\n",
       "\n",
       "/* Parallel-specific style estimator block */\n",
       "\n",
       "#sk-container-id-1 div.sk-parallel-item::after {\n",
       "  content: \"\";\n",
       "  width: 100%;\n",
       "  border-bottom: 2px solid var(--sklearn-color-text-on-default-background);\n",
       "  flex-grow: 1;\n",
       "}\n",
       "\n",
       "#sk-container-id-1 div.sk-parallel {\n",
       "  display: flex;\n",
       "  align-items: stretch;\n",
       "  justify-content: center;\n",
       "  background-color: var(--sklearn-color-background);\n",
       "  position: relative;\n",
       "}\n",
       "\n",
       "#sk-container-id-1 div.sk-parallel-item {\n",
       "  display: flex;\n",
       "  flex-direction: column;\n",
       "}\n",
       "\n",
       "#sk-container-id-1 div.sk-parallel-item:first-child::after {\n",
       "  align-self: flex-end;\n",
       "  width: 50%;\n",
       "}\n",
       "\n",
       "#sk-container-id-1 div.sk-parallel-item:last-child::after {\n",
       "  align-self: flex-start;\n",
       "  width: 50%;\n",
       "}\n",
       "\n",
       "#sk-container-id-1 div.sk-parallel-item:only-child::after {\n",
       "  width: 0;\n",
       "}\n",
       "\n",
       "/* Serial-specific style estimator block */\n",
       "\n",
       "#sk-container-id-1 div.sk-serial {\n",
       "  display: flex;\n",
       "  flex-direction: column;\n",
       "  align-items: center;\n",
       "  background-color: var(--sklearn-color-background);\n",
       "  padding-right: 1em;\n",
       "  padding-left: 1em;\n",
       "}\n",
       "\n",
       "\n",
       "/* Toggleable style: style used for estimator/Pipeline/ColumnTransformer box that is\n",
       "clickable and can be expanded/collapsed.\n",
       "- Pipeline and ColumnTransformer use this feature and define the default style\n",
       "- Estimators will overwrite some part of the style using the `sk-estimator` class\n",
       "*/\n",
       "\n",
       "/* Pipeline and ColumnTransformer style (default) */\n",
       "\n",
       "#sk-container-id-1 div.sk-toggleable {\n",
       "  /* Default theme specific background. It is overwritten whether we have a\n",
       "  specific estimator or a Pipeline/ColumnTransformer */\n",
       "  background-color: var(--sklearn-color-background);\n",
       "}\n",
       "\n",
       "/* Toggleable label */\n",
       "#sk-container-id-1 label.sk-toggleable__label {\n",
       "  cursor: pointer;\n",
       "  display: block;\n",
       "  width: 100%;\n",
       "  margin-bottom: 0;\n",
       "  padding: 0.5em;\n",
       "  box-sizing: border-box;\n",
       "  text-align: center;\n",
       "}\n",
       "\n",
       "#sk-container-id-1 label.sk-toggleable__label-arrow:before {\n",
       "  /* Arrow on the left of the label */\n",
       "  content: \"▸\";\n",
       "  float: left;\n",
       "  margin-right: 0.25em;\n",
       "  color: var(--sklearn-color-icon);\n",
       "}\n",
       "\n",
       "#sk-container-id-1 label.sk-toggleable__label-arrow:hover:before {\n",
       "  color: var(--sklearn-color-text);\n",
       "}\n",
       "\n",
       "/* Toggleable content - dropdown */\n",
       "\n",
       "#sk-container-id-1 div.sk-toggleable__content {\n",
       "  max-height: 0;\n",
       "  max-width: 0;\n",
       "  overflow: hidden;\n",
       "  text-align: left;\n",
       "  /* unfitted */\n",
       "  background-color: var(--sklearn-color-unfitted-level-0);\n",
       "}\n",
       "\n",
       "#sk-container-id-1 div.sk-toggleable__content.fitted {\n",
       "  /* fitted */\n",
       "  background-color: var(--sklearn-color-fitted-level-0);\n",
       "}\n",
       "\n",
       "#sk-container-id-1 div.sk-toggleable__content pre {\n",
       "  margin: 0.2em;\n",
       "  border-radius: 0.25em;\n",
       "  color: var(--sklearn-color-text);\n",
       "  /* unfitted */\n",
       "  background-color: var(--sklearn-color-unfitted-level-0);\n",
       "}\n",
       "\n",
       "#sk-container-id-1 div.sk-toggleable__content.fitted pre {\n",
       "  /* unfitted */\n",
       "  background-color: var(--sklearn-color-fitted-level-0);\n",
       "}\n",
       "\n",
       "#sk-container-id-1 input.sk-toggleable__control:checked~div.sk-toggleable__content {\n",
       "  /* Expand drop-down */\n",
       "  max-height: 200px;\n",
       "  max-width: 100%;\n",
       "  overflow: auto;\n",
       "}\n",
       "\n",
       "#sk-container-id-1 input.sk-toggleable__control:checked~label.sk-toggleable__label-arrow:before {\n",
       "  content: \"▾\";\n",
       "}\n",
       "\n",
       "/* Pipeline/ColumnTransformer-specific style */\n",
       "\n",
       "#sk-container-id-1 div.sk-label input.sk-toggleable__control:checked~label.sk-toggleable__label {\n",
       "  color: var(--sklearn-color-text);\n",
       "  background-color: var(--sklearn-color-unfitted-level-2);\n",
       "}\n",
       "\n",
       "#sk-container-id-1 div.sk-label.fitted input.sk-toggleable__control:checked~label.sk-toggleable__label {\n",
       "  background-color: var(--sklearn-color-fitted-level-2);\n",
       "}\n",
       "\n",
       "/* Estimator-specific style */\n",
       "\n",
       "/* Colorize estimator box */\n",
       "#sk-container-id-1 div.sk-estimator input.sk-toggleable__control:checked~label.sk-toggleable__label {\n",
       "  /* unfitted */\n",
       "  background-color: var(--sklearn-color-unfitted-level-2);\n",
       "}\n",
       "\n",
       "#sk-container-id-1 div.sk-estimator.fitted input.sk-toggleable__control:checked~label.sk-toggleable__label {\n",
       "  /* fitted */\n",
       "  background-color: var(--sklearn-color-fitted-level-2);\n",
       "}\n",
       "\n",
       "#sk-container-id-1 div.sk-label label.sk-toggleable__label,\n",
       "#sk-container-id-1 div.sk-label label {\n",
       "  /* The background is the default theme color */\n",
       "  color: var(--sklearn-color-text-on-default-background);\n",
       "}\n",
       "\n",
       "/* On hover, darken the color of the background */\n",
       "#sk-container-id-1 div.sk-label:hover label.sk-toggleable__label {\n",
       "  color: var(--sklearn-color-text);\n",
       "  background-color: var(--sklearn-color-unfitted-level-2);\n",
       "}\n",
       "\n",
       "/* Label box, darken color on hover, fitted */\n",
       "#sk-container-id-1 div.sk-label.fitted:hover label.sk-toggleable__label.fitted {\n",
       "  color: var(--sklearn-color-text);\n",
       "  background-color: var(--sklearn-color-fitted-level-2);\n",
       "}\n",
       "\n",
       "/* Estimator label */\n",
       "\n",
       "#sk-container-id-1 div.sk-label label {\n",
       "  font-family: monospace;\n",
       "  font-weight: bold;\n",
       "  display: inline-block;\n",
       "  line-height: 1.2em;\n",
       "}\n",
       "\n",
       "#sk-container-id-1 div.sk-label-container {\n",
       "  text-align: center;\n",
       "}\n",
       "\n",
       "/* Estimator-specific */\n",
       "#sk-container-id-1 div.sk-estimator {\n",
       "  font-family: monospace;\n",
       "  border: 1px dotted var(--sklearn-color-border-box);\n",
       "  border-radius: 0.25em;\n",
       "  box-sizing: border-box;\n",
       "  margin-bottom: 0.5em;\n",
       "  /* unfitted */\n",
       "  background-color: var(--sklearn-color-unfitted-level-0);\n",
       "}\n",
       "\n",
       "#sk-container-id-1 div.sk-estimator.fitted {\n",
       "  /* fitted */\n",
       "  background-color: var(--sklearn-color-fitted-level-0);\n",
       "}\n",
       "\n",
       "/* on hover */\n",
       "#sk-container-id-1 div.sk-estimator:hover {\n",
       "  /* unfitted */\n",
       "  background-color: var(--sklearn-color-unfitted-level-2);\n",
       "}\n",
       "\n",
       "#sk-container-id-1 div.sk-estimator.fitted:hover {\n",
       "  /* fitted */\n",
       "  background-color: var(--sklearn-color-fitted-level-2);\n",
       "}\n",
       "\n",
       "/* Specification for estimator info (e.g. \"i\" and \"?\") */\n",
       "\n",
       "/* Common style for \"i\" and \"?\" */\n",
       "\n",
       ".sk-estimator-doc-link,\n",
       "a:link.sk-estimator-doc-link,\n",
       "a:visited.sk-estimator-doc-link {\n",
       "  float: right;\n",
       "  font-size: smaller;\n",
       "  line-height: 1em;\n",
       "  font-family: monospace;\n",
       "  background-color: var(--sklearn-color-background);\n",
       "  border-radius: 1em;\n",
       "  height: 1em;\n",
       "  width: 1em;\n",
       "  text-decoration: none !important;\n",
       "  margin-left: 1ex;\n",
       "  /* unfitted */\n",
       "  border: var(--sklearn-color-unfitted-level-1) 1pt solid;\n",
       "  color: var(--sklearn-color-unfitted-level-1);\n",
       "}\n",
       "\n",
       ".sk-estimator-doc-link.fitted,\n",
       "a:link.sk-estimator-doc-link.fitted,\n",
       "a:visited.sk-estimator-doc-link.fitted {\n",
       "  /* fitted */\n",
       "  border: var(--sklearn-color-fitted-level-1) 1pt solid;\n",
       "  color: var(--sklearn-color-fitted-level-1);\n",
       "}\n",
       "\n",
       "/* On hover */\n",
       "div.sk-estimator:hover .sk-estimator-doc-link:hover,\n",
       ".sk-estimator-doc-link:hover,\n",
       "div.sk-label-container:hover .sk-estimator-doc-link:hover,\n",
       ".sk-estimator-doc-link:hover {\n",
       "  /* unfitted */\n",
       "  background-color: var(--sklearn-color-unfitted-level-3);\n",
       "  color: var(--sklearn-color-background);\n",
       "  text-decoration: none;\n",
       "}\n",
       "\n",
       "div.sk-estimator.fitted:hover .sk-estimator-doc-link.fitted:hover,\n",
       ".sk-estimator-doc-link.fitted:hover,\n",
       "div.sk-label-container:hover .sk-estimator-doc-link.fitted:hover,\n",
       ".sk-estimator-doc-link.fitted:hover {\n",
       "  /* fitted */\n",
       "  background-color: var(--sklearn-color-fitted-level-3);\n",
       "  color: var(--sklearn-color-background);\n",
       "  text-decoration: none;\n",
       "}\n",
       "\n",
       "/* Span, style for the box shown on hovering the info icon */\n",
       ".sk-estimator-doc-link span {\n",
       "  display: none;\n",
       "  z-index: 9999;\n",
       "  position: relative;\n",
       "  font-weight: normal;\n",
       "  right: .2ex;\n",
       "  padding: .5ex;\n",
       "  margin: .5ex;\n",
       "  width: min-content;\n",
       "  min-width: 20ex;\n",
       "  max-width: 50ex;\n",
       "  color: var(--sklearn-color-text);\n",
       "  box-shadow: 2pt 2pt 4pt #999;\n",
       "  /* unfitted */\n",
       "  background: var(--sklearn-color-unfitted-level-0);\n",
       "  border: .5pt solid var(--sklearn-color-unfitted-level-3);\n",
       "}\n",
       "\n",
       ".sk-estimator-doc-link.fitted span {\n",
       "  /* fitted */\n",
       "  background: var(--sklearn-color-fitted-level-0);\n",
       "  border: var(--sklearn-color-fitted-level-3);\n",
       "}\n",
       "\n",
       ".sk-estimator-doc-link:hover span {\n",
       "  display: block;\n",
       "}\n",
       "\n",
       "/* \"?\"-specific style due to the `<a>` HTML tag */\n",
       "\n",
       "#sk-container-id-1 a.estimator_doc_link {\n",
       "  float: right;\n",
       "  font-size: 1rem;\n",
       "  line-height: 1em;\n",
       "  font-family: monospace;\n",
       "  background-color: var(--sklearn-color-background);\n",
       "  border-radius: 1rem;\n",
       "  height: 1rem;\n",
       "  width: 1rem;\n",
       "  text-decoration: none;\n",
       "  /* unfitted */\n",
       "  color: var(--sklearn-color-unfitted-level-1);\n",
       "  border: var(--sklearn-color-unfitted-level-1) 1pt solid;\n",
       "}\n",
       "\n",
       "#sk-container-id-1 a.estimator_doc_link.fitted {\n",
       "  /* fitted */\n",
       "  border: var(--sklearn-color-fitted-level-1) 1pt solid;\n",
       "  color: var(--sklearn-color-fitted-level-1);\n",
       "}\n",
       "\n",
       "/* On hover */\n",
       "#sk-container-id-1 a.estimator_doc_link:hover {\n",
       "  /* unfitted */\n",
       "  background-color: var(--sklearn-color-unfitted-level-3);\n",
       "  color: var(--sklearn-color-background);\n",
       "  text-decoration: none;\n",
       "}\n",
       "\n",
       "#sk-container-id-1 a.estimator_doc_link.fitted:hover {\n",
       "  /* fitted */\n",
       "  background-color: var(--sklearn-color-fitted-level-3);\n",
       "}\n",
       "</style><div id=\"sk-container-id-1\" class=\"sk-top-container\"><div class=\"sk-text-repr-fallback\"><pre>RandomForestClassifier()</pre><b>In a Jupyter environment, please rerun this cell to show the HTML representation or trust the notebook. <br />On GitHub, the HTML representation is unable to render, please try loading this page with nbviewer.org.</b></div><div class=\"sk-container\" hidden><div class=\"sk-item\"><div class=\"sk-estimator fitted sk-toggleable\"><input class=\"sk-toggleable__control sk-hidden--visually\" id=\"sk-estimator-id-1\" type=\"checkbox\" checked><label for=\"sk-estimator-id-1\" class=\"sk-toggleable__label fitted sk-toggleable__label-arrow fitted\">&nbsp;&nbsp;RandomForestClassifier<a class=\"sk-estimator-doc-link fitted\" rel=\"noreferrer\" target=\"_blank\" href=\"https://scikit-learn.org/1.5/modules/generated/sklearn.ensemble.RandomForestClassifier.html\">?<span>Documentation for RandomForestClassifier</span></a><span class=\"sk-estimator-doc-link fitted\">i<span>Fitted</span></span></label><div class=\"sk-toggleable__content fitted\"><pre>RandomForestClassifier()</pre></div> </div></div></div></div>"
      ],
      "text/plain": [
       "RandomForestClassifier()"
      ]
     },
     "execution_count": 19,
     "metadata": {},
     "output_type": "execute_result"
    }
   ],
   "source": [
    "rf.fit(X_train,y_train)"
   ]
  },
  {
   "cell_type": "code",
   "execution_count": 20,
   "id": "15820144",
   "metadata": {
    "execution": {
     "iopub.execute_input": "2024-09-03T07:53:58.928319Z",
     "iopub.status.busy": "2024-09-03T07:53:58.927292Z",
     "iopub.status.idle": "2024-09-03T07:53:59.202482Z",
     "shell.execute_reply": "2024-09-03T07:53:59.201280Z"
    },
    "papermill": {
     "duration": 0.295242,
     "end_time": "2024-09-03T07:53:59.205219",
     "exception": false,
     "start_time": "2024-09-03T07:53:58.909977",
     "status": "completed"
    },
    "tags": []
   },
   "outputs": [],
   "source": [
    "y_pred = rf.predict(X_test)"
   ]
  },
  {
   "cell_type": "code",
   "execution_count": 21,
   "id": "33489079",
   "metadata": {
    "execution": {
     "iopub.execute_input": "2024-09-03T07:53:59.237998Z",
     "iopub.status.busy": "2024-09-03T07:53:59.237512Z",
     "iopub.status.idle": "2024-09-03T07:53:59.279393Z",
     "shell.execute_reply": "2024-09-03T07:53:59.277898Z"
    },
    "papermill": {
     "duration": 0.060929,
     "end_time": "2024-09-03T07:53:59.281929",
     "exception": false,
     "start_time": "2024-09-03T07:53:59.221000",
     "status": "completed"
    },
    "tags": []
   },
   "outputs": [
    {
     "name": "stdout",
     "output_type": "stream",
     "text": [
      "              precision    recall  f1-score   support\n",
      "\n",
      "           0       0.97      1.00      0.98     18292\n",
      "           1       0.93      0.69      0.80      1708\n",
      "\n",
      "    accuracy                           0.97     20000\n",
      "   macro avg       0.95      0.84      0.89     20000\n",
      "weighted avg       0.97      0.97      0.97     20000\n",
      "\n"
     ]
    }
   ],
   "source": [
    "print(classification_report(y_test,y_pred))"
   ]
  },
  {
   "cell_type": "code",
   "execution_count": 22,
   "id": "4ad628ee",
   "metadata": {
    "execution": {
     "iopub.execute_input": "2024-09-03T07:53:59.314287Z",
     "iopub.status.busy": "2024-09-03T07:53:59.313557Z",
     "iopub.status.idle": "2024-09-03T07:53:59.330356Z",
     "shell.execute_reply": "2024-09-03T07:53:59.329321Z"
    },
    "papermill": {
     "duration": 0.035757,
     "end_time": "2024-09-03T07:53:59.332743",
     "exception": false,
     "start_time": "2024-09-03T07:53:59.296986",
     "status": "completed"
    },
    "tags": []
   },
   "outputs": [
    {
     "data": {
      "text/plain": [
       "0.795439302481556"
      ]
     },
     "execution_count": 22,
     "metadata": {},
     "output_type": "execute_result"
    }
   ],
   "source": [
    "f1_score(y_test,y_pred)"
   ]
  },
  {
   "cell_type": "code",
   "execution_count": 23,
   "id": "c18ba744",
   "metadata": {
    "execution": {
     "iopub.execute_input": "2024-09-03T07:53:59.365822Z",
     "iopub.status.busy": "2024-09-03T07:53:59.365071Z",
     "iopub.status.idle": "2024-09-03T07:53:59.377213Z",
     "shell.execute_reply": "2024-09-03T07:53:59.376143Z"
    },
    "papermill": {
     "duration": 0.031187,
     "end_time": "2024-09-03T07:53:59.379516",
     "exception": false,
     "start_time": "2024-09-03T07:53:59.348329",
     "status": "completed"
    },
    "tags": []
   },
   "outputs": [
    {
     "data": {
      "text/plain": [
       "array([[18204,    88],\n",
       "       [  522,  1186]], dtype=int64)"
      ]
     },
     "execution_count": 23,
     "metadata": {},
     "output_type": "execute_result"
    }
   ],
   "source": [
    "confusion_matrix(y_test,y_pred)"
   ]
  },
  {
   "cell_type": "markdown",
   "id": "7b07b09d",
   "metadata": {
    "papermill": {
     "duration": 0.015579,
     "end_time": "2024-09-03T07:53:59.410709",
     "exception": false,
     "start_time": "2024-09-03T07:53:59.395130",
     "status": "completed"
    },
    "tags": []
   },
   "source": [
    "* __Class 0 (Non-diabetic):__\n",
    "\n",
    "1. Precision (0.97): Out of all the instances predicted as non-diabetic, 97% were correctly identified as non-diabetic.\n",
    "2. Recall (1.00): The model successfully identified all actual non-diabetic cases, meaning it didn’t miss any non-diabetic instances.\n",
    "3. F1-Score (0.98): The F1-score, which balances precision and recall, is very high, indicating excellent performance for predicting non-diabetic cases.\n",
    "\n",
    "* __Class 1 (Diabetic):__\n",
    "1. Precision (0.94): Out of all the instances predicted as diabetic, 94% were correctly classified as diabetic.\n",
    "2. Recall (0.69): The model only captured 69% of the actual diabetic cases, meaning 31% of true diabetic cases were missed by the model.\n",
    "3. F1-Score (0.80): This shows the model's ability to handle diabetic cases, though the lower recall pulls down the F1-score.\n",
    "\n",
    "* __Conclusion:__\n",
    "1. We can clearly see model is biased towards majority class(i.e Non Diabetic) so we have used any one of the sampling technique to overcome imbalance in dataset\n",
    "2. Although, it can deviate in some degree from real world situation but it can acceptable.\n"
   ]
  },
  {
   "cell_type": "markdown",
   "id": "e2b1a145",
   "metadata": {
    "papermill": {
     "duration": 0.015348,
     "end_time": "2024-09-03T07:53:59.441695",
     "exception": false,
     "start_time": "2024-09-03T07:53:59.426347",
     "status": "completed"
    },
    "tags": []
   },
   "source": [
    "# Handling Imbalance using SMOTE technique"
   ]
  },
  {
   "cell_type": "markdown",
   "id": "99030c6c",
   "metadata": {
    "papermill": {
     "duration": 0.014995,
     "end_time": "2024-09-03T07:53:59.472067",
     "exception": false,
     "start_time": "2024-09-03T07:53:59.457072",
     "status": "completed"
    },
    "tags": []
   },
   "source": [
    "* __Combining Oversampling and Undersampling:__ SMOTETomek combines SMOTE (Synthetic Minority Over-sampling Technique) and Tomek links. SMOTE oversamples the minority class by creating synthetic samples, while Tomek links are used to undersample by removing overlapping or noisy examples from the majority class.\n",
    "\n",
    "* __Reducing Class Overlap:__ SMOTETomek helps to reduce class overlap by removing Tomek links, which are pairs of instances (one from the majority class and one from the minority class) that are closest to each other and likely to be misclassified."
   ]
  },
  {
   "cell_type": "code",
   "execution_count": 24,
   "id": "7d4e1b5b",
   "metadata": {
    "execution": {
     "iopub.execute_input": "2024-09-03T07:53:59.505082Z",
     "iopub.status.busy": "2024-09-03T07:53:59.504359Z",
     "iopub.status.idle": "2024-09-03T07:53:59.653833Z",
     "shell.execute_reply": "2024-09-03T07:53:59.652873Z"
    },
    "papermill": {
     "duration": 0.168785,
     "end_time": "2024-09-03T07:53:59.656334",
     "exception": false,
     "start_time": "2024-09-03T07:53:59.487549",
     "status": "completed"
    },
    "tags": []
   },
   "outputs": [],
   "source": [
    "from imblearn.combine import SMOTETomek\n",
    "sm=SMOTETomek(random_state=42)"
   ]
  },
  {
   "cell_type": "code",
   "execution_count": 25,
   "id": "6e237b99",
   "metadata": {
    "execution": {
     "iopub.execute_input": "2024-09-03T07:53:59.690787Z",
     "iopub.status.busy": "2024-09-03T07:53:59.689786Z",
     "iopub.status.idle": "2024-09-03T07:54:34.088779Z",
     "shell.execute_reply": "2024-09-03T07:54:34.087564Z"
    },
    "papermill": {
     "duration": 34.41867,
     "end_time": "2024-09-03T07:54:34.091702",
     "exception": false,
     "start_time": "2024-09-03T07:53:59.673032",
     "status": "completed"
    },
    "tags": []
   },
   "outputs": [],
   "source": [
    "X_resample,y_resample=sm.fit_resample(X_trf,y)"
   ]
  },
  {
   "cell_type": "code",
   "execution_count": 26,
   "id": "633c70c6",
   "metadata": {
    "execution": {
     "iopub.execute_input": "2024-09-03T07:54:34.125593Z",
     "iopub.status.busy": "2024-09-03T07:54:34.124845Z",
     "iopub.status.idle": "2024-09-03T07:54:34.135346Z",
     "shell.execute_reply": "2024-09-03T07:54:34.134439Z"
    },
    "papermill": {
     "duration": 0.030278,
     "end_time": "2024-09-03T07:54:34.137973",
     "exception": false,
     "start_time": "2024-09-03T07:54:34.107695",
     "status": "completed"
    },
    "tags": []
   },
   "outputs": [
    {
     "data": {
      "text/plain": [
       "diabetes\n",
       "0    90759\n",
       "1    90759\n",
       "Name: count, dtype: int64"
      ]
     },
     "execution_count": 26,
     "metadata": {},
     "output_type": "execute_result"
    }
   ],
   "source": [
    "y_resample.value_counts()"
   ]
  },
  {
   "cell_type": "code",
   "execution_count": 27,
   "id": "716fd9ad",
   "metadata": {
    "execution": {
     "iopub.execute_input": "2024-09-03T07:54:34.172185Z",
     "iopub.status.busy": "2024-09-03T07:54:34.171214Z",
     "iopub.status.idle": "2024-09-03T07:54:34.201016Z",
     "shell.execute_reply": "2024-09-03T07:54:34.199973Z"
    },
    "papermill": {
     "duration": 0.049738,
     "end_time": "2024-09-03T07:54:34.203692",
     "exception": false,
     "start_time": "2024-09-03T07:54:34.153954",
     "status": "completed"
    },
    "tags": []
   },
   "outputs": [],
   "source": [
    "X_train_rs,X_test_rs,y_train_rs,y_test_rs = train_test_split(X_resample,y_resample,test_size=0.2,random_state=42)"
   ]
  },
  {
   "cell_type": "code",
   "execution_count": 28,
   "id": "9b10edb0",
   "metadata": {
    "execution": {
     "iopub.execute_input": "2024-09-03T07:54:34.237396Z",
     "iopub.status.busy": "2024-09-03T07:54:34.236967Z",
     "iopub.status.idle": "2024-09-03T07:54:34.242335Z",
     "shell.execute_reply": "2024-09-03T07:54:34.241172Z"
    },
    "papermill": {
     "duration": 0.025132,
     "end_time": "2024-09-03T07:54:34.244808",
     "exception": false,
     "start_time": "2024-09-03T07:54:34.219676",
     "status": "completed"
    },
    "tags": []
   },
   "outputs": [],
   "source": [
    "clf = RandomForestClassifier()"
   ]
  },
  {
   "cell_type": "code",
   "execution_count": 29,
   "id": "02f49d80",
   "metadata": {
    "execution": {
     "iopub.execute_input": "2024-09-03T07:54:34.330979Z",
     "iopub.status.busy": "2024-09-03T07:54:34.330128Z",
     "iopub.status.idle": "2024-09-03T07:54:53.229342Z",
     "shell.execute_reply": "2024-09-03T07:54:53.228253Z"
    },
    "papermill": {
     "duration": 18.971496,
     "end_time": "2024-09-03T07:54:53.232055",
     "exception": false,
     "start_time": "2024-09-03T07:54:34.260559",
     "status": "completed"
    },
    "tags": []
   },
   "outputs": [
    {
     "data": {
      "text/html": [
       "<style>#sk-container-id-2 {\n",
       "  /* Definition of color scheme common for light and dark mode */\n",
       "  --sklearn-color-text: black;\n",
       "  --sklearn-color-line: gray;\n",
       "  /* Definition of color scheme for unfitted estimators */\n",
       "  --sklearn-color-unfitted-level-0: #fff5e6;\n",
       "  --sklearn-color-unfitted-level-1: #f6e4d2;\n",
       "  --sklearn-color-unfitted-level-2: #ffe0b3;\n",
       "  --sklearn-color-unfitted-level-3: chocolate;\n",
       "  /* Definition of color scheme for fitted estimators */\n",
       "  --sklearn-color-fitted-level-0: #f0f8ff;\n",
       "  --sklearn-color-fitted-level-1: #d4ebff;\n",
       "  --sklearn-color-fitted-level-2: #b3dbfd;\n",
       "  --sklearn-color-fitted-level-3: cornflowerblue;\n",
       "\n",
       "  /* Specific color for light theme */\n",
       "  --sklearn-color-text-on-default-background: var(--sg-text-color, var(--theme-code-foreground, var(--jp-content-font-color1, black)));\n",
       "  --sklearn-color-background: var(--sg-background-color, var(--theme-background, var(--jp-layout-color0, white)));\n",
       "  --sklearn-color-border-box: var(--sg-text-color, var(--theme-code-foreground, var(--jp-content-font-color1, black)));\n",
       "  --sklearn-color-icon: #696969;\n",
       "\n",
       "  @media (prefers-color-scheme: dark) {\n",
       "    /* Redefinition of color scheme for dark theme */\n",
       "    --sklearn-color-text-on-default-background: var(--sg-text-color, var(--theme-code-foreground, var(--jp-content-font-color1, white)));\n",
       "    --sklearn-color-background: var(--sg-background-color, var(--theme-background, var(--jp-layout-color0, #111)));\n",
       "    --sklearn-color-border-box: var(--sg-text-color, var(--theme-code-foreground, var(--jp-content-font-color1, white)));\n",
       "    --sklearn-color-icon: #878787;\n",
       "  }\n",
       "}\n",
       "\n",
       "#sk-container-id-2 {\n",
       "  color: var(--sklearn-color-text);\n",
       "}\n",
       "\n",
       "#sk-container-id-2 pre {\n",
       "  padding: 0;\n",
       "}\n",
       "\n",
       "#sk-container-id-2 input.sk-hidden--visually {\n",
       "  border: 0;\n",
       "  clip: rect(1px 1px 1px 1px);\n",
       "  clip: rect(1px, 1px, 1px, 1px);\n",
       "  height: 1px;\n",
       "  margin: -1px;\n",
       "  overflow: hidden;\n",
       "  padding: 0;\n",
       "  position: absolute;\n",
       "  width: 1px;\n",
       "}\n",
       "\n",
       "#sk-container-id-2 div.sk-dashed-wrapped {\n",
       "  border: 1px dashed var(--sklearn-color-line);\n",
       "  margin: 0 0.4em 0.5em 0.4em;\n",
       "  box-sizing: border-box;\n",
       "  padding-bottom: 0.4em;\n",
       "  background-color: var(--sklearn-color-background);\n",
       "}\n",
       "\n",
       "#sk-container-id-2 div.sk-container {\n",
       "  /* jupyter's `normalize.less` sets `[hidden] { display: none; }`\n",
       "     but bootstrap.min.css set `[hidden] { display: none !important; }`\n",
       "     so we also need the `!important` here to be able to override the\n",
       "     default hidden behavior on the sphinx rendered scikit-learn.org.\n",
       "     See: https://github.com/scikit-learn/scikit-learn/issues/21755 */\n",
       "  display: inline-block !important;\n",
       "  position: relative;\n",
       "}\n",
       "\n",
       "#sk-container-id-2 div.sk-text-repr-fallback {\n",
       "  display: none;\n",
       "}\n",
       "\n",
       "div.sk-parallel-item,\n",
       "div.sk-serial,\n",
       "div.sk-item {\n",
       "  /* draw centered vertical line to link estimators */\n",
       "  background-image: linear-gradient(var(--sklearn-color-text-on-default-background), var(--sklearn-color-text-on-default-background));\n",
       "  background-size: 2px 100%;\n",
       "  background-repeat: no-repeat;\n",
       "  background-position: center center;\n",
       "}\n",
       "\n",
       "/* Parallel-specific style estimator block */\n",
       "\n",
       "#sk-container-id-2 div.sk-parallel-item::after {\n",
       "  content: \"\";\n",
       "  width: 100%;\n",
       "  border-bottom: 2px solid var(--sklearn-color-text-on-default-background);\n",
       "  flex-grow: 1;\n",
       "}\n",
       "\n",
       "#sk-container-id-2 div.sk-parallel {\n",
       "  display: flex;\n",
       "  align-items: stretch;\n",
       "  justify-content: center;\n",
       "  background-color: var(--sklearn-color-background);\n",
       "  position: relative;\n",
       "}\n",
       "\n",
       "#sk-container-id-2 div.sk-parallel-item {\n",
       "  display: flex;\n",
       "  flex-direction: column;\n",
       "}\n",
       "\n",
       "#sk-container-id-2 div.sk-parallel-item:first-child::after {\n",
       "  align-self: flex-end;\n",
       "  width: 50%;\n",
       "}\n",
       "\n",
       "#sk-container-id-2 div.sk-parallel-item:last-child::after {\n",
       "  align-self: flex-start;\n",
       "  width: 50%;\n",
       "}\n",
       "\n",
       "#sk-container-id-2 div.sk-parallel-item:only-child::after {\n",
       "  width: 0;\n",
       "}\n",
       "\n",
       "/* Serial-specific style estimator block */\n",
       "\n",
       "#sk-container-id-2 div.sk-serial {\n",
       "  display: flex;\n",
       "  flex-direction: column;\n",
       "  align-items: center;\n",
       "  background-color: var(--sklearn-color-background);\n",
       "  padding-right: 1em;\n",
       "  padding-left: 1em;\n",
       "}\n",
       "\n",
       "\n",
       "/* Toggleable style: style used for estimator/Pipeline/ColumnTransformer box that is\n",
       "clickable and can be expanded/collapsed.\n",
       "- Pipeline and ColumnTransformer use this feature and define the default style\n",
       "- Estimators will overwrite some part of the style using the `sk-estimator` class\n",
       "*/\n",
       "\n",
       "/* Pipeline and ColumnTransformer style (default) */\n",
       "\n",
       "#sk-container-id-2 div.sk-toggleable {\n",
       "  /* Default theme specific background. It is overwritten whether we have a\n",
       "  specific estimator or a Pipeline/ColumnTransformer */\n",
       "  background-color: var(--sklearn-color-background);\n",
       "}\n",
       "\n",
       "/* Toggleable label */\n",
       "#sk-container-id-2 label.sk-toggleable__label {\n",
       "  cursor: pointer;\n",
       "  display: block;\n",
       "  width: 100%;\n",
       "  margin-bottom: 0;\n",
       "  padding: 0.5em;\n",
       "  box-sizing: border-box;\n",
       "  text-align: center;\n",
       "}\n",
       "\n",
       "#sk-container-id-2 label.sk-toggleable__label-arrow:before {\n",
       "  /* Arrow on the left of the label */\n",
       "  content: \"▸\";\n",
       "  float: left;\n",
       "  margin-right: 0.25em;\n",
       "  color: var(--sklearn-color-icon);\n",
       "}\n",
       "\n",
       "#sk-container-id-2 label.sk-toggleable__label-arrow:hover:before {\n",
       "  color: var(--sklearn-color-text);\n",
       "}\n",
       "\n",
       "/* Toggleable content - dropdown */\n",
       "\n",
       "#sk-container-id-2 div.sk-toggleable__content {\n",
       "  max-height: 0;\n",
       "  max-width: 0;\n",
       "  overflow: hidden;\n",
       "  text-align: left;\n",
       "  /* unfitted */\n",
       "  background-color: var(--sklearn-color-unfitted-level-0);\n",
       "}\n",
       "\n",
       "#sk-container-id-2 div.sk-toggleable__content.fitted {\n",
       "  /* fitted */\n",
       "  background-color: var(--sklearn-color-fitted-level-0);\n",
       "}\n",
       "\n",
       "#sk-container-id-2 div.sk-toggleable__content pre {\n",
       "  margin: 0.2em;\n",
       "  border-radius: 0.25em;\n",
       "  color: var(--sklearn-color-text);\n",
       "  /* unfitted */\n",
       "  background-color: var(--sklearn-color-unfitted-level-0);\n",
       "}\n",
       "\n",
       "#sk-container-id-2 div.sk-toggleable__content.fitted pre {\n",
       "  /* unfitted */\n",
       "  background-color: var(--sklearn-color-fitted-level-0);\n",
       "}\n",
       "\n",
       "#sk-container-id-2 input.sk-toggleable__control:checked~div.sk-toggleable__content {\n",
       "  /* Expand drop-down */\n",
       "  max-height: 200px;\n",
       "  max-width: 100%;\n",
       "  overflow: auto;\n",
       "}\n",
       "\n",
       "#sk-container-id-2 input.sk-toggleable__control:checked~label.sk-toggleable__label-arrow:before {\n",
       "  content: \"▾\";\n",
       "}\n",
       "\n",
       "/* Pipeline/ColumnTransformer-specific style */\n",
       "\n",
       "#sk-container-id-2 div.sk-label input.sk-toggleable__control:checked~label.sk-toggleable__label {\n",
       "  color: var(--sklearn-color-text);\n",
       "  background-color: var(--sklearn-color-unfitted-level-2);\n",
       "}\n",
       "\n",
       "#sk-container-id-2 div.sk-label.fitted input.sk-toggleable__control:checked~label.sk-toggleable__label {\n",
       "  background-color: var(--sklearn-color-fitted-level-2);\n",
       "}\n",
       "\n",
       "/* Estimator-specific style */\n",
       "\n",
       "/* Colorize estimator box */\n",
       "#sk-container-id-2 div.sk-estimator input.sk-toggleable__control:checked~label.sk-toggleable__label {\n",
       "  /* unfitted */\n",
       "  background-color: var(--sklearn-color-unfitted-level-2);\n",
       "}\n",
       "\n",
       "#sk-container-id-2 div.sk-estimator.fitted input.sk-toggleable__control:checked~label.sk-toggleable__label {\n",
       "  /* fitted */\n",
       "  background-color: var(--sklearn-color-fitted-level-2);\n",
       "}\n",
       "\n",
       "#sk-container-id-2 div.sk-label label.sk-toggleable__label,\n",
       "#sk-container-id-2 div.sk-label label {\n",
       "  /* The background is the default theme color */\n",
       "  color: var(--sklearn-color-text-on-default-background);\n",
       "}\n",
       "\n",
       "/* On hover, darken the color of the background */\n",
       "#sk-container-id-2 div.sk-label:hover label.sk-toggleable__label {\n",
       "  color: var(--sklearn-color-text);\n",
       "  background-color: var(--sklearn-color-unfitted-level-2);\n",
       "}\n",
       "\n",
       "/* Label box, darken color on hover, fitted */\n",
       "#sk-container-id-2 div.sk-label.fitted:hover label.sk-toggleable__label.fitted {\n",
       "  color: var(--sklearn-color-text);\n",
       "  background-color: var(--sklearn-color-fitted-level-2);\n",
       "}\n",
       "\n",
       "/* Estimator label */\n",
       "\n",
       "#sk-container-id-2 div.sk-label label {\n",
       "  font-family: monospace;\n",
       "  font-weight: bold;\n",
       "  display: inline-block;\n",
       "  line-height: 1.2em;\n",
       "}\n",
       "\n",
       "#sk-container-id-2 div.sk-label-container {\n",
       "  text-align: center;\n",
       "}\n",
       "\n",
       "/* Estimator-specific */\n",
       "#sk-container-id-2 div.sk-estimator {\n",
       "  font-family: monospace;\n",
       "  border: 1px dotted var(--sklearn-color-border-box);\n",
       "  border-radius: 0.25em;\n",
       "  box-sizing: border-box;\n",
       "  margin-bottom: 0.5em;\n",
       "  /* unfitted */\n",
       "  background-color: var(--sklearn-color-unfitted-level-0);\n",
       "}\n",
       "\n",
       "#sk-container-id-2 div.sk-estimator.fitted {\n",
       "  /* fitted */\n",
       "  background-color: var(--sklearn-color-fitted-level-0);\n",
       "}\n",
       "\n",
       "/* on hover */\n",
       "#sk-container-id-2 div.sk-estimator:hover {\n",
       "  /* unfitted */\n",
       "  background-color: var(--sklearn-color-unfitted-level-2);\n",
       "}\n",
       "\n",
       "#sk-container-id-2 div.sk-estimator.fitted:hover {\n",
       "  /* fitted */\n",
       "  background-color: var(--sklearn-color-fitted-level-2);\n",
       "}\n",
       "\n",
       "/* Specification for estimator info (e.g. \"i\" and \"?\") */\n",
       "\n",
       "/* Common style for \"i\" and \"?\" */\n",
       "\n",
       ".sk-estimator-doc-link,\n",
       "a:link.sk-estimator-doc-link,\n",
       "a:visited.sk-estimator-doc-link {\n",
       "  float: right;\n",
       "  font-size: smaller;\n",
       "  line-height: 1em;\n",
       "  font-family: monospace;\n",
       "  background-color: var(--sklearn-color-background);\n",
       "  border-radius: 1em;\n",
       "  height: 1em;\n",
       "  width: 1em;\n",
       "  text-decoration: none !important;\n",
       "  margin-left: 1ex;\n",
       "  /* unfitted */\n",
       "  border: var(--sklearn-color-unfitted-level-1) 1pt solid;\n",
       "  color: var(--sklearn-color-unfitted-level-1);\n",
       "}\n",
       "\n",
       ".sk-estimator-doc-link.fitted,\n",
       "a:link.sk-estimator-doc-link.fitted,\n",
       "a:visited.sk-estimator-doc-link.fitted {\n",
       "  /* fitted */\n",
       "  border: var(--sklearn-color-fitted-level-1) 1pt solid;\n",
       "  color: var(--sklearn-color-fitted-level-1);\n",
       "}\n",
       "\n",
       "/* On hover */\n",
       "div.sk-estimator:hover .sk-estimator-doc-link:hover,\n",
       ".sk-estimator-doc-link:hover,\n",
       "div.sk-label-container:hover .sk-estimator-doc-link:hover,\n",
       ".sk-estimator-doc-link:hover {\n",
       "  /* unfitted */\n",
       "  background-color: var(--sklearn-color-unfitted-level-3);\n",
       "  color: var(--sklearn-color-background);\n",
       "  text-decoration: none;\n",
       "}\n",
       "\n",
       "div.sk-estimator.fitted:hover .sk-estimator-doc-link.fitted:hover,\n",
       ".sk-estimator-doc-link.fitted:hover,\n",
       "div.sk-label-container:hover .sk-estimator-doc-link.fitted:hover,\n",
       ".sk-estimator-doc-link.fitted:hover {\n",
       "  /* fitted */\n",
       "  background-color: var(--sklearn-color-fitted-level-3);\n",
       "  color: var(--sklearn-color-background);\n",
       "  text-decoration: none;\n",
       "}\n",
       "\n",
       "/* Span, style for the box shown on hovering the info icon */\n",
       ".sk-estimator-doc-link span {\n",
       "  display: none;\n",
       "  z-index: 9999;\n",
       "  position: relative;\n",
       "  font-weight: normal;\n",
       "  right: .2ex;\n",
       "  padding: .5ex;\n",
       "  margin: .5ex;\n",
       "  width: min-content;\n",
       "  min-width: 20ex;\n",
       "  max-width: 50ex;\n",
       "  color: var(--sklearn-color-text);\n",
       "  box-shadow: 2pt 2pt 4pt #999;\n",
       "  /* unfitted */\n",
       "  background: var(--sklearn-color-unfitted-level-0);\n",
       "  border: .5pt solid var(--sklearn-color-unfitted-level-3);\n",
       "}\n",
       "\n",
       ".sk-estimator-doc-link.fitted span {\n",
       "  /* fitted */\n",
       "  background: var(--sklearn-color-fitted-level-0);\n",
       "  border: var(--sklearn-color-fitted-level-3);\n",
       "}\n",
       "\n",
       ".sk-estimator-doc-link:hover span {\n",
       "  display: block;\n",
       "}\n",
       "\n",
       "/* \"?\"-specific style due to the `<a>` HTML tag */\n",
       "\n",
       "#sk-container-id-2 a.estimator_doc_link {\n",
       "  float: right;\n",
       "  font-size: 1rem;\n",
       "  line-height: 1em;\n",
       "  font-family: monospace;\n",
       "  background-color: var(--sklearn-color-background);\n",
       "  border-radius: 1rem;\n",
       "  height: 1rem;\n",
       "  width: 1rem;\n",
       "  text-decoration: none;\n",
       "  /* unfitted */\n",
       "  color: var(--sklearn-color-unfitted-level-1);\n",
       "  border: var(--sklearn-color-unfitted-level-1) 1pt solid;\n",
       "}\n",
       "\n",
       "#sk-container-id-2 a.estimator_doc_link.fitted {\n",
       "  /* fitted */\n",
       "  border: var(--sklearn-color-fitted-level-1) 1pt solid;\n",
       "  color: var(--sklearn-color-fitted-level-1);\n",
       "}\n",
       "\n",
       "/* On hover */\n",
       "#sk-container-id-2 a.estimator_doc_link:hover {\n",
       "  /* unfitted */\n",
       "  background-color: var(--sklearn-color-unfitted-level-3);\n",
       "  color: var(--sklearn-color-background);\n",
       "  text-decoration: none;\n",
       "}\n",
       "\n",
       "#sk-container-id-2 a.estimator_doc_link.fitted:hover {\n",
       "  /* fitted */\n",
       "  background-color: var(--sklearn-color-fitted-level-3);\n",
       "}\n",
       "</style><div id=\"sk-container-id-2\" class=\"sk-top-container\"><div class=\"sk-text-repr-fallback\"><pre>RandomForestClassifier()</pre><b>In a Jupyter environment, please rerun this cell to show the HTML representation or trust the notebook. <br />On GitHub, the HTML representation is unable to render, please try loading this page with nbviewer.org.</b></div><div class=\"sk-container\" hidden><div class=\"sk-item\"><div class=\"sk-estimator fitted sk-toggleable\"><input class=\"sk-toggleable__control sk-hidden--visually\" id=\"sk-estimator-id-2\" type=\"checkbox\" checked><label for=\"sk-estimator-id-2\" class=\"sk-toggleable__label fitted sk-toggleable__label-arrow fitted\">&nbsp;&nbsp;RandomForestClassifier<a class=\"sk-estimator-doc-link fitted\" rel=\"noreferrer\" target=\"_blank\" href=\"https://scikit-learn.org/1.5/modules/generated/sklearn.ensemble.RandomForestClassifier.html\">?<span>Documentation for RandomForestClassifier</span></a><span class=\"sk-estimator-doc-link fitted\">i<span>Fitted</span></span></label><div class=\"sk-toggleable__content fitted\"><pre>RandomForestClassifier()</pre></div> </div></div></div></div>"
      ],
      "text/plain": [
       "RandomForestClassifier()"
      ]
     },
     "execution_count": 29,
     "metadata": {},
     "output_type": "execute_result"
    }
   ],
   "source": [
    "clf.fit(X_train_rs,y_train_rs)"
   ]
  },
  {
   "cell_type": "code",
   "execution_count": 30,
   "id": "eb709d0a",
   "metadata": {
    "execution": {
     "iopub.execute_input": "2024-09-03T07:54:53.266773Z",
     "iopub.status.busy": "2024-09-03T07:54:53.266016Z",
     "iopub.status.idle": "2024-09-03T07:54:53.782834Z",
     "shell.execute_reply": "2024-09-03T07:54:53.781873Z"
    },
    "papermill": {
     "duration": 0.53674,
     "end_time": "2024-09-03T07:54:53.785516",
     "exception": false,
     "start_time": "2024-09-03T07:54:53.248776",
     "status": "completed"
    },
    "tags": []
   },
   "outputs": [],
   "source": [
    "y_pred_rs = clf.predict(X_test_rs)"
   ]
  },
  {
   "cell_type": "code",
   "execution_count": 31,
   "id": "a223300d",
   "metadata": {
    "execution": {
     "iopub.execute_input": "2024-09-03T07:54:53.820561Z",
     "iopub.status.busy": "2024-09-03T07:54:53.819760Z",
     "iopub.status.idle": "2024-09-03T07:54:53.901416Z",
     "shell.execute_reply": "2024-09-03T07:54:53.900361Z"
    },
    "papermill": {
     "duration": 0.102324,
     "end_time": "2024-09-03T07:54:53.904194",
     "exception": false,
     "start_time": "2024-09-03T07:54:53.801870",
     "status": "completed"
    },
    "tags": []
   },
   "outputs": [
    {
     "name": "stdout",
     "output_type": "stream",
     "text": [
      "              precision    recall  f1-score   support\n",
      "\n",
      "           0       0.98      0.98      0.98     18141\n",
      "           1       0.98      0.98      0.98     18163\n",
      "\n",
      "    accuracy                           0.98     36304\n",
      "   macro avg       0.98      0.98      0.98     36304\n",
      "weighted avg       0.98      0.98      0.98     36304\n",
      "\n"
     ]
    }
   ],
   "source": [
    "print(classification_report(y_test_rs,y_pred_rs))"
   ]
  },
  {
   "cell_type": "code",
   "execution_count": 32,
   "id": "4f484f3c",
   "metadata": {
    "execution": {
     "iopub.execute_input": "2024-09-03T07:54:53.939125Z",
     "iopub.status.busy": "2024-09-03T07:54:53.938643Z",
     "iopub.status.idle": "2024-09-03T07:54:53.963671Z",
     "shell.execute_reply": "2024-09-03T07:54:53.962634Z"
    },
    "papermill": {
     "duration": 0.045019,
     "end_time": "2024-09-03T07:54:53.966169",
     "exception": false,
     "start_time": "2024-09-03T07:54:53.921150",
     "status": "completed"
    },
    "tags": []
   },
   "outputs": [
    {
     "data": {
      "text/plain": [
       "0.980221714851594"
      ]
     },
     "execution_count": 32,
     "metadata": {},
     "output_type": "execute_result"
    }
   ],
   "source": [
    "f1_score(y_test_rs,y_pred_rs)"
   ]
  },
  {
   "cell_type": "code",
   "execution_count": 33,
   "id": "47ea8508",
   "metadata": {
    "execution": {
     "iopub.execute_input": "2024-09-03T07:54:54.002326Z",
     "iopub.status.busy": "2024-09-03T07:54:54.001918Z",
     "iopub.status.idle": "2024-09-03T07:54:54.017874Z",
     "shell.execute_reply": "2024-09-03T07:54:54.016670Z"
    },
    "papermill": {
     "duration": 0.036779,
     "end_time": "2024-09-03T07:54:54.020289",
     "exception": false,
     "start_time": "2024-09-03T07:54:53.983510",
     "status": "completed"
    },
    "tags": []
   },
   "outputs": [
    {
     "data": {
      "text/plain": [
       "array([[17768,   373],\n",
       "       [  346, 17817]], dtype=int64)"
      ]
     },
     "execution_count": 33,
     "metadata": {},
     "output_type": "execute_result"
    }
   ],
   "source": [
    "confusion_matrix(y_test_rs,y_pred_rs)"
   ]
  },
  {
   "cell_type": "markdown",
   "id": "2f3b84d9",
   "metadata": {
    "papermill": {
     "duration": 0.016404,
     "end_time": "2024-09-03T07:54:54.053146",
     "exception": false,
     "start_time": "2024-09-03T07:54:54.036742",
     "status": "completed"
    },
    "tags": []
   },
   "source": [
    "**Conclusion:**\n",
    "* We can see significant improvement in f1_score after sampling data**(from 0.79 to 0.98)**."
   ]
  },
  {
   "cell_type": "markdown",
   "id": "c5ecf5b3",
   "metadata": {
    "papermill": {
     "duration": 0.016255,
     "end_time": "2024-09-03T07:54:54.086175",
     "exception": false,
     "start_time": "2024-09-03T07:54:54.069920",
     "status": "completed"
    },
    "tags": []
   },
   "source": [
    "# Cross validation for sampled data using cross val"
   ]
  },
  {
   "cell_type": "code",
   "execution_count": 34,
   "id": "c4fc594d",
   "metadata": {
    "execution": {
     "iopub.execute_input": "2024-09-03T07:54:54.121779Z",
     "iopub.status.busy": "2024-09-03T07:54:54.121012Z",
     "iopub.status.idle": "2024-09-03T07:55:46.030348Z",
     "shell.execute_reply": "2024-09-03T07:55:46.029030Z"
    },
    "papermill": {
     "duration": 51.945834,
     "end_time": "2024-09-03T07:55:46.048760",
     "exception": false,
     "start_time": "2024-09-03T07:54:54.102926",
     "status": "completed"
    },
    "tags": []
   },
   "outputs": [
    {
     "name": "stderr",
     "output_type": "stream",
     "text": [
      "[Parallel(n_jobs=-1)]: Using backend LokyBackend with 12 concurrent workers.\n",
      "[Parallel(n_jobs=-1)]: Done   5 out of   5 | elapsed:   18.9s finished\n"
     ]
    },
    {
     "data": {
      "text/plain": [
       "array([0.95182748, 0.98645327, 0.98369966, 0.98509419, 0.98552703])"
      ]
     },
     "execution_count": 34,
     "metadata": {},
     "output_type": "execute_result"
    }
   ],
   "source": [
    "from sklearn.model_selection import cross_val_score\n",
    "cross_val_score(clf,X_resample, y_resample, cv=5, scoring='f1',verbose=1,n_jobs=-1)"
   ]
  },
  {
   "cell_type": "markdown",
   "id": "b4718c4e",
   "metadata": {
    "papermill": {
     "duration": 0.016596,
     "end_time": "2024-09-03T07:55:46.082349",
     "exception": false,
     "start_time": "2024-09-03T07:55:46.065753",
     "status": "completed"
    },
    "tags": []
   },
   "source": [
    "__Cross val conclusion:__\n",
    "* Cross val scores for **5 folds** can confirm our **model is not iverfitting**, whereas 1 out of 5 folds had underperformed but it can be acceptable."
   ]
  },
  {
   "cell_type": "markdown",
   "id": "fc8ed476",
   "metadata": {
    "papermill": {
     "duration": 0.016657,
     "end_time": "2024-09-03T07:55:46.117258",
     "exception": false,
     "start_time": "2024-09-03T07:55:46.100601",
     "status": "completed"
    },
    "tags": []
   },
   "source": [
    "# ROC-AUC plot for minority class comparison"
   ]
  },
  {
   "cell_type": "code",
   "execution_count": 35,
   "id": "1b78d3da",
   "metadata": {
    "execution": {
     "iopub.execute_input": "2024-09-03T07:55:46.153742Z",
     "iopub.status.busy": "2024-09-03T07:55:46.153252Z",
     "iopub.status.idle": "2024-09-03T07:55:46.954146Z",
     "shell.execute_reply": "2024-09-03T07:55:46.952919Z"
    },
    "papermill": {
     "duration": 0.822526,
     "end_time": "2024-09-03T07:55:46.956918",
     "exception": false,
     "start_time": "2024-09-03T07:55:46.134392",
     "status": "completed"
    },
    "tags": []
   },
   "outputs": [],
   "source": [
    "y_proba = rf.predict_proba(X_test)[:,1]\n",
    "y_proba_rs = clf.predict_proba(X_test_rs)[:,1]"
   ]
  },
  {
   "cell_type": "markdown",
   "id": "cfd4463f",
   "metadata": {
    "papermill": {
     "duration": 0.017921,
     "end_time": "2024-09-03T07:55:47.689683",
     "exception": false,
     "start_time": "2024-09-03T07:55:47.671762",
     "status": "completed"
    },
    "tags": []
   },
   "source": [
    "# Precision Recall curve for minority class comparision"
   ]
  },
  {
   "cell_type": "code",
   "execution_count": null,
   "id": "fe29a0cd",
   "metadata": {
    "execution": {
     "iopub.execute_input": "2024-09-03T07:55:47.728468Z",
     "iopub.status.busy": "2024-09-03T07:55:47.727466Z",
     "iopub.status.idle": "2024-09-03T07:55:48.282056Z",
     "shell.execute_reply": "2024-09-03T07:55:48.280906Z"
    },
    "papermill": {
     "duration": 0.576599,
     "end_time": "2024-09-03T07:55:48.284398",
     "exception": false,
     "start_time": "2024-09-03T07:55:47.707799",
     "status": "completed"
    },
    "tags": []
   },
   "outputs": [
    {
     "data": {
      "image/png": "[encoded data removed]",
      "text/plain": [
       "<Figure size 1400x600 with 2 Axes>"
      ]
     },
     "metadata": {},
     "output_type": "display_data"
    }
   ],
   "source": [
    "\n",
    "# Compute Precision-Recall curve and average precision score for both models\n",
    "precision, recall, _ = precision_recall_curve(y_test, y_proba)\n",
    "average_precision = average_precision_score(y_test, y_proba)\n",
    "\n",
    "precision_rs, recall_rs, _ = precision_recall_curve(y_test_rs, y_proba_rs)\n",
    "average_precision_rs = average_precision_score(y_test_rs, y_proba_rs)\n",
    "\n",
    "# Create subplots: two PR curves side by side\n",
    "fig, ax = plt.subplots(1, 2, figsize=(14, 6))\n",
    "\n",
    "# Plot PR curve for the imbalanced model\n",
    "ax[0].plot(recall, precision, color='blue', lw=2, label=f'AP = {average_precision:.2f}')\n",
    "ax[0].set_xlabel('Recall')\n",
    "ax[0].set_ylabel('Precision')\n",
    "ax[0].set_title('Imbalanced Model Precision-Recall Curve')\n",
    "ax[0].legend(loc=\"lower left\")\n",
    "\n",
    "# Plot PR curve for the resampled model\n",
    "ax[1].plot(recall_rs, precision_rs, color='red', lw=2, label=f'AP = {average_precision_rs:.2f}')\n",
    "ax[1].set_xlabel('Recall')\n",
    "ax[1].set_ylabel('Precision')\n",
    "ax[1].set_title('Resampled Model Precision-Recall Curve')\n",
    "ax[1].legend(loc=\"lower left\")\n",
    "\n",
    "# Adjust spacing between plots\n",
    "plt.tight_layout()\n",
    "\n",
    "# Show plots\n",
    "plt.show()"
   ]
  },
  {
   "cell_type": "code",
   "execution_count": null,
   "id": "078c4d0c",
   "metadata": {
    "papermill": {
     "duration": 0.018938,
     "end_time": "2024-09-03T07:55:48.322860",
     "exception": false,
     "start_time": "2024-09-03T07:55:48.303922",
     "status": "completed"
    },
    "tags": []
   },
   "outputs": [],
   "source": []
  }
 ],
 "metadata": {
  "kaggle": {
   "accelerator": "none",
   "dataSources": [
    {
     "datasetId": 3102947,
     "sourceId": 5344155,
     "sourceType": "datasetVersion"
    }
   ],
   "dockerImageVersionId": 30761,
   "isGpuEnabled": false,
   "isInternetEnabled": true,
   "language": "python",
   "sourceType": "notebook"
  },
  "kernelspec": {
   "display_name": "Python 3",
   "language": "python",
   "name": "python3"
  },
  "language_info": {
   "codemirror_mode": {
    "name": "ipython",
    "version": 3
   },
   "file_extension": ".py",
   "mimetype": "text/x-python",
   "name": "python",
   "nbconvert_exporter": "python",
   "pygments_lexer": "ipython3",
   "version": "3.12.1"
  },
  "papermill": {
   "default_parameters": {},
   "duration": 127.546291,
   "end_time": "2024-09-03T07:55:50.963668",
   "environment_variables": {},
   "exception": null,
   "input_path": "__notebook__.ipynb",
   "output_path": "__notebook__.ipynb",
   "parameters": {},
   "start_time": "2024-09-03T07:53:43.417377",
   "version": "2.6.0"
  }
 },
 "nbformat": 4,
 "nbformat_minor": 5
}
